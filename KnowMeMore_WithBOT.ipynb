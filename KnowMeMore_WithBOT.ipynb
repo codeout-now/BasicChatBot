{
  "nbformat": 4,
  "nbformat_minor": 0,
  "metadata": {
    "colab": {
      "name": "KnowMeMore_WithBOT.ipynb",
      "provenance": [],
      "collapsed_sections": []
    },
    "kernelspec": {
      "display_name": "Python 3",
      "name": "python3"
    },
    "language_info": {
      "name": "python"
    }
  },
  "cells": [
    {
      "cell_type": "code",
      "metadata": {
        "colab": {
          "base_uri": "https://localhost:8080/"
        },
        "id": "ViabStiE_kBs",
        "outputId": "d32f187b-4b61-49ca-85e5-146cbe8704ff"
      },
      "source": [
        "!pip install chatterbot\n",
        "!pip install chatterbot_corpus"
      ],
      "execution_count": null,
      "outputs": [
        {
          "name": "stdout",
          "output_type": "stream",
          "text": [
            "Requirement already satisfied: chatterbot in /usr/local/lib/python3.7/dist-packages (1.0.8)\n",
            "Requirement already satisfied: python-dateutil<2.9,>=2.8 in /usr/local/lib/python3.7/dist-packages (from chatterbot) (2.8.2)\n",
            "Requirement already satisfied: sqlalchemy<1.4,>=1.3 in /usr/local/lib/python3.7/dist-packages (from chatterbot) (1.3.24)\n",
            "Requirement already satisfied: pytz in /usr/local/lib/python3.7/dist-packages (from chatterbot) (2018.9)\n",
            "Requirement already satisfied: mathparse<0.2,>=0.1 in /usr/local/lib/python3.7/dist-packages (from chatterbot) (0.1.2)\n",
            "Requirement already satisfied: six>=1.5 in /usr/local/lib/python3.7/dist-packages (from python-dateutil<2.9,>=2.8->chatterbot) (1.15.0)\n",
            "Requirement already satisfied: chatterbot_corpus in /usr/local/lib/python3.7/dist-packages (1.2.0)\n",
            "Requirement already satisfied: PyYAML<4.0,>=3.12 in /usr/local/lib/python3.7/dist-packages (from chatterbot_corpus) (3.13)\n"
          ]
        }
      ]
    },
    {
      "cell_type": "code",
      "metadata": {
        "id": "wCn5tFgq_2wG"
      },
      "source": [
        "from chatterbot import ChatBot\n",
        "bot=ChatBot(\"Doroki\", storage_adapter='chatterbot.storage.SQLStorageAdapter',database_uri=None,logic_adapters=['chatterbot.logic.BestMatch','chatterbot.logic.MathematicalEvaluation',])\n",
        "\n",
        "#timelogic"
      ],
      "execution_count": null,
      "outputs": []
    },
    {
      "cell_type": "code",
      "metadata": {
        "colab": {
          "base_uri": "https://localhost:8080/"
        },
        "id": "bXy-9a-iCF8V",
        "outputId": "c3839f3a-a65c-4235-b908-a43d49b6c619"
      },
      "source": [
        "from chatterbot.trainers import ListTrainer\n",
        "trainer=ListTrainer(bot)\n",
        "trainer.train(['Hello',\n",
        "               'Hi',\n",
        "               'Good morning',\n",
        "               'Good morning',\n",
        "               'Thank you',\n",
        "               'You are welcome',\n",
        "               'Have a nice day',\n",
        "               'Thanks, you too',\n",
        "               'How are you?',\n",
        "               'Iam good,How about you?',\n",
        "               'Iam doing great',\n",
        "               'That is good to hear',\n",
        "               'I need your assistance',\n",
        "               'Yes,How can I help you?',\n",
        "               'what is your name?',\n",
        "               'My name is J Divya Parvathi',\n",
        "               'can you tell me about your schooling?',\n",
        "               'I did My schooling in Akshara Intl School',\n",
        "               'Are you a state or CBSE OR ICSE Student?',\n",
        "               'Iam a CBSE student',\n",
        "               'Where did you do your undergraduation?',\n",
        "               'Iam doing my undergraduation in SVEC,Tirupati.',\n",
        "               'What is your CGPA?',\n",
        "               '8.33 is my CGPA',\n",
        "               'What is your stream in BTECH?',\n",
        "               'I opted CSE as my majors.',\n",
        "               'What did you opted for your Intermediate? MPC/BIPC/MEC/CEC/HEC?',\n",
        "               'I opted MPC as my stream',\n",
        "               'What was your intermediate percentage ?',\n",
        "               'I scored 95.4 ',\n",
        "               'Did you do any internships?',\n",
        "               'Yes I did 2 internships, one in marketing and the other as a yolo object detection intern',\n",
        "               'Did you do any projects?',\n",
        "               'Yes I did a spam/ham mail classification project and a mini project on chatbot',\n",
        "               'What are your hobbies?',\n",
        "               'I love traveling,cooking,painting',\n",
        "               'What are your strengths?',\n",
        "               'My strengths are my perseverance, patience',\n",
        "               'What are your weakness?',\n",
        "               'Being pedantic is my weakness',\n",
        "               'What is your favourite destination?',\n",
        "               'I love to visit Scotland',\n",
        "               'What is your favourite food?',\n",
        "               'Iam a foodie, just having delicious food is enough for me to make a great day',])"
      ],
      "execution_count": null,
      "outputs": [
        {
          "name": "stdout",
          "output_type": "stream",
          "text": [
            "List Trainer: [####################] 100%\n"
          ]
        }
      ]
    },
    {
      "cell_type": "code",
      "metadata": {
        "colab": {
          "background_save": true,
          "base_uri": "https://localhost:8080/"
        },
        "id": "_q9E1OkLFFf-",
        "outputId": "1bbb4701-9724-4a28-dd3f-1ede8062ec85"
      },
      "source": [
        "while True:\n",
        "  request=input()\n",
        "  if request==\"bye\" or request==\"bye\":\n",
        "    print(\"Bye\") \n",
        "    break\n",
        "  else:\n",
        "    response=bot.get_response(request)\n",
        "    print(response)\n",
        "  \n"
      ],
      "execution_count": null,
      "outputs": [
        {
          "name": "stdout",
          "output_type": "stream",
          "text": [
            "Good morning\n"
          ]
        }
      ]
    },
    {
      "cell_type": "code",
      "metadata": {
        "id": "aJCszcUoF_HO"
      },
      "source": [
        ""
      ],
      "execution_count": null,
      "outputs": []
    }
  ]
}