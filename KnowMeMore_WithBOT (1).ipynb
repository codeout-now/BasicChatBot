{
  "nbformat": 4,
  "nbformat_minor": 0,
  "metadata": {
    "colab": {
      "name": "KnowMeMore_WithBOT.ipynb",
      "provenance": [],
      "collapsed_sections": []
    },
    "kernelspec": {
      "display_name": "Python 3",
      "name": "python3"
    },
    "language_info": {
      "name": "python"
    }
  },
  "cells": [
    {
      "cell_type": "code",
      "metadata": {
        "colab": {
          "base_uri": "https://localhost:8080/"
        },
        "id": "ViabStiE_kBs",
        "outputId": "4aa8eacc-1eef-4a2e-aca2-b737ff9d2f38"
      },
      "source": [
        "!pip install chatterbot\n",
        "!pip install chatterbot_corpus"
      ],
      "execution_count": 1,
      "outputs": [
        {
          "output_type": "stream",
          "name": "stdout",
          "text": [
            "Collecting chatterbot\n",
            "  Downloading ChatterBot-1.0.8-py2.py3-none-any.whl (63 kB)\n",
            "\u001b[?25l\r\u001b[K     |█████▏                          | 10 kB 20.7 MB/s eta 0:00:01\r\u001b[K     |██████████▎                     | 20 kB 26.7 MB/s eta 0:00:01\r\u001b[K     |███████████████▌                | 30 kB 13.7 MB/s eta 0:00:01\r\u001b[K     |████████████████████▋           | 40 kB 10.6 MB/s eta 0:00:01\r\u001b[K     |█████████████████████████▊      | 51 kB 5.5 MB/s eta 0:00:01\r\u001b[K     |███████████████████████████████ | 61 kB 5.4 MB/s eta 0:00:01\r\u001b[K     |████████████████████████████████| 63 kB 1.5 MB/s \n",
            "\u001b[?25hRequirement already satisfied: python-dateutil<2.9,>=2.8 in /usr/local/lib/python3.7/dist-packages (from chatterbot) (2.8.2)\n",
            "Collecting mathparse<0.2,>=0.1\n",
            "  Downloading mathparse-0.1.2-py3-none-any.whl (7.2 kB)\n",
            "Requirement already satisfied: pytz in /usr/local/lib/python3.7/dist-packages (from chatterbot) (2018.9)\n",
            "Collecting sqlalchemy<1.4,>=1.3\n",
            "  Downloading SQLAlchemy-1.3.24-cp37-cp37m-manylinux2010_x86_64.whl (1.3 MB)\n",
            "\u001b[K     |████████████████████████████████| 1.3 MB 12.7 MB/s \n",
            "\u001b[?25hRequirement already satisfied: six>=1.5 in /usr/local/lib/python3.7/dist-packages (from python-dateutil<2.9,>=2.8->chatterbot) (1.15.0)\n",
            "Installing collected packages: sqlalchemy, mathparse, chatterbot\n",
            "  Attempting uninstall: sqlalchemy\n",
            "    Found existing installation: SQLAlchemy 1.4.27\n",
            "    Uninstalling SQLAlchemy-1.4.27:\n",
            "      Successfully uninstalled SQLAlchemy-1.4.27\n",
            "Successfully installed chatterbot-1.0.8 mathparse-0.1.2 sqlalchemy-1.3.24\n",
            "Collecting chatterbot_corpus\n",
            "  Downloading chatterbot_corpus-1.2.0-py2.py3-none-any.whl (117 kB)\n",
            "\u001b[K     |████████████████████████████████| 117 kB 5.3 MB/s \n",
            "\u001b[?25hRequirement already satisfied: PyYAML<4.0,>=3.12 in /usr/local/lib/python3.7/dist-packages (from chatterbot_corpus) (3.13)\n",
            "Installing collected packages: chatterbot-corpus\n",
            "Successfully installed chatterbot-corpus-1.2.0\n"
          ]
        }
      ]
    },
    {
      "cell_type": "code",
      "metadata": {
        "id": "wCn5tFgq_2wG"
      },
      "source": [
        "from chatterbot import ChatBot\n",
        "bot=ChatBot(\"Doroki\", storage_adapter='chatterbot.storage.SQLStorageAdapter',database_uri=None,logic_adapters=['chatterbot.logic.BestMatch','chatterbot.logic.MathematicalEvaluation',])\n",
        "\n",
        "#timelogic"
      ],
      "execution_count": 2,
      "outputs": []
    },
    {
      "cell_type": "code",
      "metadata": {
        "colab": {
          "base_uri": "https://localhost:8080/"
        },
        "id": "bXy-9a-iCF8V",
        "outputId": "110f8c16-533b-4b2b-af9b-9a361b89f09e"
      },
      "source": [
        "from chatterbot.trainers import ListTrainer\n",
        "trainer=ListTrainer(bot)\n",
        "trainer.train(['Hello',\n",
        "               'Hi',\n",
        "               'Good morning',\n",
        "               'Good morning',\n",
        "               'Thank you',\n",
        "               'You are welcome',\n",
        "               'Have a nice day',\n",
        "               'Thanks, you too',\n",
        "               'How are you?',\n",
        "               'Iam good,How about you?',\n",
        "               'Iam doing great',\n",
        "               'That is good to hear',\n",
        "               'I need your assistance',\n",
        "               'Yes,How can I help you?',\n",
        "               'what is your name?',\n",
        "               'My name is J Divya Parvathi',\n",
        "               'can you tell me about your schooling?',\n",
        "               'I did My schooling in Akshara Intl School',\n",
        "               'Are you a state or CBSE OR ICSE Student?',\n",
        "               'Iam a CBSE student',\n",
        "               'Where did you do your undergraduation?',\n",
        "               'Iam doing my undergraduation in SVEC,Tirupati.',\n",
        "               'What is your CGPA?',\n",
        "               '8.33 is my CGPA',\n",
        "               'What is your stream in BTECH?',\n",
        "               'I opted CSE as my majors.',\n",
        "               'What did you opted for your Intermediate? MPC/BIPC/MEC/CEC/HEC?',\n",
        "               'I opted MPC as my stream',\n",
        "               'What was your intermediate percentage ?',\n",
        "               'I scored 95.4 ',\n",
        "               'Did you do any internships?',\n",
        "               'Yes I did 2 internships, one in marketing and the other as a yolo object detection intern',\n",
        "               'Did you do any projects?',\n",
        "               'Yes I did a spam/ham mail classification project and a mini project on chatbot',\n",
        "               'What are your hobbies?',\n",
        "               'I love traveling,cooking,painting',\n",
        "               'What are your strengths?',\n",
        "               'My strengths are my perseverance, patience',\n",
        "               'What are your weakness?',\n",
        "               'Being pedantic is my weakness',\n",
        "               'What is your favourite destination?',\n",
        "               'I love to visit Scotland',\n",
        "               'What is your favourite food?',\n",
        "               'Iam a foodie, just having delicious food is enough for me to make a great day',])"
      ],
      "execution_count": 3,
      "outputs": [
        {
          "output_type": "stream",
          "name": "stdout",
          "text": [
            "\n"
          ]
        }
      ]
    },
    {
      "cell_type": "code",
      "metadata": {
        "colab": {
          "base_uri": "https://localhost:8080/"
        },
        "id": "_q9E1OkLFFf-",
        "outputId": "047d48b9-c534-489d-bd29-c73402db1d13"
      },
      "source": [
        "while True:\n",
        "  request=input()\n",
        "  if request==\"bye\" or request==\"bye\":\n",
        "    print(\"Bot:Bye\") \n",
        "    break\n",
        "  else:\n",
        "    response=bot.get_response(request)\n",
        "    print(\"Bot:\",response)\n",
        "  \n"
      ],
      "execution_count": 6,
      "outputs": [
        {
          "output_type": "stream",
          "name": "stdout",
          "text": [
            "Good morning\n",
            "Bot: Good morning\n",
            "what is your name?\n",
            "Bot: My name is J Divya Parvathi\n",
            "CGPA?\n",
            "Bot: 8.33 is my CGPA\n",
            "Any internships?\n",
            "Bot: Yes I did 2 internships, one in marketing and the other as a yolo object detection intern\n",
            "thank you\n",
            "Bot: You are welcome\n",
            "bye\n",
            "Bot:Bye\n"
          ]
        }
      ]
    },
    {
      "cell_type": "code",
      "metadata": {
        "id": "aJCszcUoF_HO"
      },
      "source": [
        ""
      ],
      "execution_count": null,
      "outputs": []
    }
  ]
}